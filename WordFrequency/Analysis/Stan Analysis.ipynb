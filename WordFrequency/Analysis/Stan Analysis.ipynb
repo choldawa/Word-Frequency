{
 "cells": [
  {
   "cell_type": "markdown",
   "metadata": {},
   "source": [
    "# Scatter Plots"
   ]
  },
  {
   "cell_type": "markdown",
   "metadata": {},
   "source": [
    "## Read in Data"
   ]
  },
  {
   "cell_type": "code",
   "execution_count": 1,
   "metadata": {},
   "outputs": [],
   "source": [
    "import numpy as np\n",
    "import pandas as pd\n",
    "import matplotlib.pyplot as plt\n",
    "from scipy import stats"
   ]
  },
  {
   "cell_type": "code",
   "execution_count": null,
   "metadata": {
    "scrolled": true
   },
   "outputs": [],
   "source": [
    "# file_names = !ls out*.csv\n",
    "# df_list = list(map(lambda f: pd.read_csv(f), file_names))\n",
    "# df = pd.concat(df_list).reset_index(drop=True)\n",
    "# df.sort_values(by=['lpobs'], ascending = False, inplace = True)\n",
    "\n",
    "# # #remove outliers\n",
    "# # df = df.loc[:, df.columns != 'word']\n",
    "# # df = df[(np.abs(stats.zscore(df)) < 2).all(axis=1)]\n",
    "\n",
    "# num = np.arange(0, len(df.index))\n",
    "# df['index'] = num.tolist()\n",
    "# N_DAYS = 100\n",
    "# # df['mean'] = df['mu']+df['a']\n",
    "# df.head(5)\n",
    "# # df.to_csv('mod7df.csv')"
   ]
  },
  {
   "cell_type": "code",
   "execution_count": null,
   "metadata": {},
   "outputs": [],
   "source": [
    "# df.shape\n",
    "# df.to_csv('out999.csv',index = None)"
   ]
  },
  {
   "cell_type": "code",
   "execution_count": 8,
   "metadata": {},
   "outputs": [
    {
     "ename": "FileNotFoundError",
     "evalue": "[Errno 2] File b'out999.csv' does not exist: b'out999.csv'",
     "output_type": "error",
     "traceback": [
      "\u001b[0;31m---------------------------------------------------------------------------\u001b[0m",
      "\u001b[0;31mFileNotFoundError\u001b[0m                         Traceback (most recent call last)",
      "\u001b[0;32m<ipython-input-8-1fa811c372fe>\u001b[0m in \u001b[0;36m<module>\u001b[0;34m\u001b[0m\n\u001b[0;32m----> 1\u001b[0;31m \u001b[0mdf\u001b[0m \u001b[0;34m=\u001b[0m \u001b[0mpd\u001b[0m\u001b[0;34m.\u001b[0m\u001b[0mread_csv\u001b[0m\u001b[0;34m(\u001b[0m\u001b[0;34m'out999.csv'\u001b[0m\u001b[0;34m)\u001b[0m\u001b[0;34m\u001b[0m\u001b[0;34m\u001b[0m\u001b[0m\n\u001b[0m\u001b[1;32m      2\u001b[0m \u001b[0mprint\u001b[0m\u001b[0;34m(\u001b[0m\u001b[0mdf\u001b[0m\u001b[0;34m.\u001b[0m\u001b[0mshape\u001b[0m\u001b[0;34m)\u001b[0m\u001b[0;34m\u001b[0m\u001b[0;34m\u001b[0m\u001b[0m\n\u001b[1;32m      3\u001b[0m \u001b[0mdf\u001b[0m\u001b[0;34m.\u001b[0m\u001b[0mhead\u001b[0m\u001b[0;34m(\u001b[0m\u001b[0;34m)\u001b[0m\u001b[0;34m\u001b[0m\u001b[0;34m\u001b[0m\u001b[0m\n",
      "\u001b[0;32m/opt/anaconda3/lib/python3.7/site-packages/pandas/io/parsers.py\u001b[0m in \u001b[0;36mparser_f\u001b[0;34m(filepath_or_buffer, sep, delimiter, header, names, index_col, usecols, squeeze, prefix, mangle_dupe_cols, dtype, engine, converters, true_values, false_values, skipinitialspace, skiprows, skipfooter, nrows, na_values, keep_default_na, na_filter, verbose, skip_blank_lines, parse_dates, infer_datetime_format, keep_date_col, date_parser, dayfirst, cache_dates, iterator, chunksize, compression, thousands, decimal, lineterminator, quotechar, quoting, doublequote, escapechar, comment, encoding, dialect, error_bad_lines, warn_bad_lines, delim_whitespace, low_memory, memory_map, float_precision)\u001b[0m\n\u001b[1;32m    683\u001b[0m         )\n\u001b[1;32m    684\u001b[0m \u001b[0;34m\u001b[0m\u001b[0m\n\u001b[0;32m--> 685\u001b[0;31m         \u001b[0;32mreturn\u001b[0m \u001b[0m_read\u001b[0m\u001b[0;34m(\u001b[0m\u001b[0mfilepath_or_buffer\u001b[0m\u001b[0;34m,\u001b[0m \u001b[0mkwds\u001b[0m\u001b[0;34m)\u001b[0m\u001b[0;34m\u001b[0m\u001b[0;34m\u001b[0m\u001b[0m\n\u001b[0m\u001b[1;32m    686\u001b[0m \u001b[0;34m\u001b[0m\u001b[0m\n\u001b[1;32m    687\u001b[0m     \u001b[0mparser_f\u001b[0m\u001b[0;34m.\u001b[0m\u001b[0m__name__\u001b[0m \u001b[0;34m=\u001b[0m \u001b[0mname\u001b[0m\u001b[0;34m\u001b[0m\u001b[0;34m\u001b[0m\u001b[0m\n",
      "\u001b[0;32m/opt/anaconda3/lib/python3.7/site-packages/pandas/io/parsers.py\u001b[0m in \u001b[0;36m_read\u001b[0;34m(filepath_or_buffer, kwds)\u001b[0m\n\u001b[1;32m    455\u001b[0m \u001b[0;34m\u001b[0m\u001b[0m\n\u001b[1;32m    456\u001b[0m     \u001b[0;31m# Create the parser.\u001b[0m\u001b[0;34m\u001b[0m\u001b[0;34m\u001b[0m\u001b[0;34m\u001b[0m\u001b[0m\n\u001b[0;32m--> 457\u001b[0;31m     \u001b[0mparser\u001b[0m \u001b[0;34m=\u001b[0m \u001b[0mTextFileReader\u001b[0m\u001b[0;34m(\u001b[0m\u001b[0mfp_or_buf\u001b[0m\u001b[0;34m,\u001b[0m \u001b[0;34m**\u001b[0m\u001b[0mkwds\u001b[0m\u001b[0;34m)\u001b[0m\u001b[0;34m\u001b[0m\u001b[0;34m\u001b[0m\u001b[0m\n\u001b[0m\u001b[1;32m    458\u001b[0m \u001b[0;34m\u001b[0m\u001b[0m\n\u001b[1;32m    459\u001b[0m     \u001b[0;32mif\u001b[0m \u001b[0mchunksize\u001b[0m \u001b[0;32mor\u001b[0m \u001b[0miterator\u001b[0m\u001b[0;34m:\u001b[0m\u001b[0;34m\u001b[0m\u001b[0;34m\u001b[0m\u001b[0m\n",
      "\u001b[0;32m/opt/anaconda3/lib/python3.7/site-packages/pandas/io/parsers.py\u001b[0m in \u001b[0;36m__init__\u001b[0;34m(self, f, engine, **kwds)\u001b[0m\n\u001b[1;32m    893\u001b[0m             \u001b[0mself\u001b[0m\u001b[0;34m.\u001b[0m\u001b[0moptions\u001b[0m\u001b[0;34m[\u001b[0m\u001b[0;34m\"has_index_names\"\u001b[0m\u001b[0;34m]\u001b[0m \u001b[0;34m=\u001b[0m \u001b[0mkwds\u001b[0m\u001b[0;34m[\u001b[0m\u001b[0;34m\"has_index_names\"\u001b[0m\u001b[0;34m]\u001b[0m\u001b[0;34m\u001b[0m\u001b[0;34m\u001b[0m\u001b[0m\n\u001b[1;32m    894\u001b[0m \u001b[0;34m\u001b[0m\u001b[0m\n\u001b[0;32m--> 895\u001b[0;31m         \u001b[0mself\u001b[0m\u001b[0;34m.\u001b[0m\u001b[0m_make_engine\u001b[0m\u001b[0;34m(\u001b[0m\u001b[0mself\u001b[0m\u001b[0;34m.\u001b[0m\u001b[0mengine\u001b[0m\u001b[0;34m)\u001b[0m\u001b[0;34m\u001b[0m\u001b[0;34m\u001b[0m\u001b[0m\n\u001b[0m\u001b[1;32m    896\u001b[0m \u001b[0;34m\u001b[0m\u001b[0m\n\u001b[1;32m    897\u001b[0m     \u001b[0;32mdef\u001b[0m \u001b[0mclose\u001b[0m\u001b[0;34m(\u001b[0m\u001b[0mself\u001b[0m\u001b[0;34m)\u001b[0m\u001b[0;34m:\u001b[0m\u001b[0;34m\u001b[0m\u001b[0;34m\u001b[0m\u001b[0m\n",
      "\u001b[0;32m/opt/anaconda3/lib/python3.7/site-packages/pandas/io/parsers.py\u001b[0m in \u001b[0;36m_make_engine\u001b[0;34m(self, engine)\u001b[0m\n\u001b[1;32m   1133\u001b[0m     \u001b[0;32mdef\u001b[0m \u001b[0m_make_engine\u001b[0m\u001b[0;34m(\u001b[0m\u001b[0mself\u001b[0m\u001b[0;34m,\u001b[0m \u001b[0mengine\u001b[0m\u001b[0;34m=\u001b[0m\u001b[0;34m\"c\"\u001b[0m\u001b[0;34m)\u001b[0m\u001b[0;34m:\u001b[0m\u001b[0;34m\u001b[0m\u001b[0;34m\u001b[0m\u001b[0m\n\u001b[1;32m   1134\u001b[0m         \u001b[0;32mif\u001b[0m \u001b[0mengine\u001b[0m \u001b[0;34m==\u001b[0m \u001b[0;34m\"c\"\u001b[0m\u001b[0;34m:\u001b[0m\u001b[0;34m\u001b[0m\u001b[0;34m\u001b[0m\u001b[0m\n\u001b[0;32m-> 1135\u001b[0;31m             \u001b[0mself\u001b[0m\u001b[0;34m.\u001b[0m\u001b[0m_engine\u001b[0m \u001b[0;34m=\u001b[0m \u001b[0mCParserWrapper\u001b[0m\u001b[0;34m(\u001b[0m\u001b[0mself\u001b[0m\u001b[0;34m.\u001b[0m\u001b[0mf\u001b[0m\u001b[0;34m,\u001b[0m \u001b[0;34m**\u001b[0m\u001b[0mself\u001b[0m\u001b[0;34m.\u001b[0m\u001b[0moptions\u001b[0m\u001b[0;34m)\u001b[0m\u001b[0;34m\u001b[0m\u001b[0;34m\u001b[0m\u001b[0m\n\u001b[0m\u001b[1;32m   1136\u001b[0m         \u001b[0;32melse\u001b[0m\u001b[0;34m:\u001b[0m\u001b[0;34m\u001b[0m\u001b[0;34m\u001b[0m\u001b[0m\n\u001b[1;32m   1137\u001b[0m             \u001b[0;32mif\u001b[0m \u001b[0mengine\u001b[0m \u001b[0;34m==\u001b[0m \u001b[0;34m\"python\"\u001b[0m\u001b[0;34m:\u001b[0m\u001b[0;34m\u001b[0m\u001b[0;34m\u001b[0m\u001b[0m\n",
      "\u001b[0;32m/opt/anaconda3/lib/python3.7/site-packages/pandas/io/parsers.py\u001b[0m in \u001b[0;36m__init__\u001b[0;34m(self, src, **kwds)\u001b[0m\n\u001b[1;32m   1915\u001b[0m         \u001b[0mkwds\u001b[0m\u001b[0;34m[\u001b[0m\u001b[0;34m\"usecols\"\u001b[0m\u001b[0;34m]\u001b[0m \u001b[0;34m=\u001b[0m \u001b[0mself\u001b[0m\u001b[0;34m.\u001b[0m\u001b[0musecols\u001b[0m\u001b[0;34m\u001b[0m\u001b[0;34m\u001b[0m\u001b[0m\n\u001b[1;32m   1916\u001b[0m \u001b[0;34m\u001b[0m\u001b[0m\n\u001b[0;32m-> 1917\u001b[0;31m         \u001b[0mself\u001b[0m\u001b[0;34m.\u001b[0m\u001b[0m_reader\u001b[0m \u001b[0;34m=\u001b[0m \u001b[0mparsers\u001b[0m\u001b[0;34m.\u001b[0m\u001b[0mTextReader\u001b[0m\u001b[0;34m(\u001b[0m\u001b[0msrc\u001b[0m\u001b[0;34m,\u001b[0m \u001b[0;34m**\u001b[0m\u001b[0mkwds\u001b[0m\u001b[0;34m)\u001b[0m\u001b[0;34m\u001b[0m\u001b[0;34m\u001b[0m\u001b[0m\n\u001b[0m\u001b[1;32m   1918\u001b[0m         \u001b[0mself\u001b[0m\u001b[0;34m.\u001b[0m\u001b[0munnamed_cols\u001b[0m \u001b[0;34m=\u001b[0m \u001b[0mself\u001b[0m\u001b[0;34m.\u001b[0m\u001b[0m_reader\u001b[0m\u001b[0;34m.\u001b[0m\u001b[0munnamed_cols\u001b[0m\u001b[0;34m\u001b[0m\u001b[0;34m\u001b[0m\u001b[0m\n\u001b[1;32m   1919\u001b[0m \u001b[0;34m\u001b[0m\u001b[0m\n",
      "\u001b[0;32mpandas/_libs/parsers.pyx\u001b[0m in \u001b[0;36mpandas._libs.parsers.TextReader.__cinit__\u001b[0;34m()\u001b[0m\n",
      "\u001b[0;32mpandas/_libs/parsers.pyx\u001b[0m in \u001b[0;36mpandas._libs.parsers.TextReader._setup_parser_source\u001b[0;34m()\u001b[0m\n",
      "\u001b[0;31mFileNotFoundError\u001b[0m: [Errno 2] File b'out999.csv' does not exist: b'out999.csv'"
     ]
    }
   ],
   "source": [
    "df = pd.read_csv('out999.csv')\n",
    "print(df.shape)\n",
    "df.head()\n"
   ]
  },
  {
   "cell_type": "code",
   "execution_count": null,
   "metadata": {
    "scrolled": true
   },
   "outputs": [],
   "source": [
    "df['maxr'].describe()\n",
    "# df.loc[df['word'] == 'many']\n"
   ]
  },
  {
   "cell_type": "markdown",
   "metadata": {},
   "source": [
    "## Show plot of Correlation"
   ]
  },
  {
   "cell_type": "code",
   "execution_count": null,
   "metadata": {},
   "outputs": [],
   "source": [
    "print(len(df['maxr']))\n",
    "xval = [1,1.01,1.02,1.05, 1.08,1.1,1.15,1.2,1.25,1.3]\n",
    "yval = []\n",
    "for x in xval:\n",
    "    yval.append(df[df['maxr'] < x]['maxr'].count()/len(df['word']))\n",
    "\n",
    "plt.plot(xval,yval, linestyle = '--')\n",
    "plt.ylabel('% of data')\n",
    "plt.xlabel('maxr val')\n",
    "plt.show()"
   ]
  },
  {
   "cell_type": "code",
   "execution_count": null,
   "metadata": {},
   "outputs": [],
   "source": [
    "## Show Plot of Rhat\n",
    "print(len(df[df['maxr'] < 1.1])/len(df['maxr']))\n",
    "df['maxr'].describe()\n",
    "dfr = df[np.abs(df.maxr-df.maxr.mean())<=(2*df.maxr.std())]\n",
    "plt.hist(dfr['maxr'], bins = 30)\n",
    "plt.show()"
   ]
  },
  {
   "cell_type": "code",
   "execution_count": null,
   "metadata": {},
   "outputs": [],
   "source": [
    "#Graphs index vs rhat in seaborn with correlation\n",
    "\n",
    "# c = stats.kendalltau(df['maxr'], df['index'])[0]\n",
    "c2 = df['index'].corr(df['maxr'])\n",
    "import seaborn as sns\n",
    "ax =sns.regplot(x=dfr['index'], y=dfr['maxr'],\n",
    "                scatter_kws={\"color\": \"black\", \"alpha\":0.2}, \n",
    "                line_kws={\"color\": \"blue\"})\n",
    "\n",
    "plt.title(\"Frequency Index vs Max Rhat \\n Correlation = %.2f\"%(c2), size = 16)\n",
    "plt.xlabel(\"Frequency Rank\", size = 14)\n",
    "plt.ylabel(\"Max Rhat\", size = 14)\n",
    "plt.show(ax)"
   ]
  },
  {
   "cell_type": "markdown",
   "metadata": {},
   "source": [
    "## Correlation (Kendall-tau)"
   ]
  },
  {
   "cell_type": "code",
   "execution_count": null,
   "metadata": {},
   "outputs": [],
   "source": [
    "x = 'mu'\n",
    "variables = ['alpha', 'sd', 'a', 'drift','theta', 'lpobs', 'maxr', 'index']\n",
    "corr = {}\n",
    "for var in variables:\n",
    "    print(\"Corr: mu vs %s\" %var)\n",
    "    print(df[x].corr(df[var]))\n",
    "    corr[var] = df[x].corr(df[var])"
   ]
  },
  {
   "cell_type": "markdown",
   "metadata": {},
   "source": [
    "## Scatter Plots"
   ]
  },
  {
   "cell_type": "markdown",
   "metadata": {},
   "source": [
    "# Word Specific Plots"
   ]
  },
  {
   "cell_type": "code",
   "execution_count": 7,
   "metadata": {},
   "outputs": [
    {
     "ename": "NameError",
     "evalue": "name 'df' is not defined",
     "output_type": "error",
     "traceback": [
      "\u001b[0;31m---------------------------------------------------------------------------\u001b[0m",
      "\u001b[0;31mNameError\u001b[0m                                 Traceback (most recent call last)",
      "\u001b[0;32m<ipython-input-7-26b2450e5b7e>\u001b[0m in \u001b[0;36m<module>\u001b[0;34m\u001b[0m\n\u001b[0;32m----> 1\u001b[0;31m \u001b[0mdf\u001b[0m\u001b[0;34m.\u001b[0m\u001b[0mloc\u001b[0m\u001b[0;34m[\u001b[0m\u001b[0mdf\u001b[0m\u001b[0;34m[\u001b[0m\u001b[0;34m'word'\u001b[0m\u001b[0;34m]\u001b[0m\u001b[0;34m==\u001b[0m\u001b[0;34m'obama'\u001b[0m\u001b[0;34m]\u001b[0m\u001b[0;34m\u001b[0m\u001b[0;34m\u001b[0m\u001b[0m\n\u001b[0m",
      "\u001b[0;31mNameError\u001b[0m: name 'df' is not defined"
     ]
    }
   ],
   "source": [
    "df.loc[df['word']=='obama']"
   ]
  },
  {
   "cell_type": "code",
   "execution_count": 11,
   "metadata": {},
   "outputs": [
    {
     "data": {
      "text/html": [
       "<div>\n",
       "<style scoped>\n",
       "    .dataframe tbody tr th:only-of-type {\n",
       "        vertical-align: middle;\n",
       "    }\n",
       "\n",
       "    .dataframe tbody tr th {\n",
       "        vertical-align: top;\n",
       "    }\n",
       "\n",
       "    .dataframe thead th {\n",
       "        text-align: right;\n",
       "    }\n",
       "</style>\n",
       "<table border=\"1\" class=\"dataframe\">\n",
       "  <thead>\n",
       "    <tr style=\"text-align: right;\">\n",
       "      <th></th>\n",
       "      <th>day</th>\n",
       "      <th>lpobs</th>\n",
       "      <th>mu</th>\n",
       "      <th>low</th>\n",
       "      <th>high</th>\n",
       "    </tr>\n",
       "  </thead>\n",
       "  <tbody>\n",
       "    <tr>\n",
       "      <td>0</td>\n",
       "      <td>0</td>\n",
       "      <td>-10.761344</td>\n",
       "      <td>-10.648427</td>\n",
       "      <td>-10.809986</td>\n",
       "      <td>-10.466258</td>\n",
       "    </tr>\n",
       "    <tr>\n",
       "      <td>1</td>\n",
       "      <td>1</td>\n",
       "      <td>-9.933443</td>\n",
       "      <td>-9.937457</td>\n",
       "      <td>-9.981711</td>\n",
       "      <td>-9.888887</td>\n",
       "    </tr>\n",
       "    <tr>\n",
       "      <td>2</td>\n",
       "      <td>2</td>\n",
       "      <td>-10.058613</td>\n",
       "      <td>-10.030197</td>\n",
       "      <td>-10.088783</td>\n",
       "      <td>-9.967884</td>\n",
       "    </tr>\n",
       "    <tr>\n",
       "      <td>3</td>\n",
       "      <td>3</td>\n",
       "      <td>-8.694873</td>\n",
       "      <td>-8.693549</td>\n",
       "      <td>-8.721677</td>\n",
       "      <td>-8.664824</td>\n",
       "    </tr>\n",
       "    <tr>\n",
       "      <td>4</td>\n",
       "      <td>4</td>\n",
       "      <td>-8.146013</td>\n",
       "      <td>-8.150288</td>\n",
       "      <td>-8.168051</td>\n",
       "      <td>-8.133105</td>\n",
       "    </tr>\n",
       "  </tbody>\n",
       "</table>\n",
       "</div>"
      ],
      "text/plain": [
       "   day      lpobs         mu        low       high\n",
       "0    0 -10.761344 -10.648427 -10.809986 -10.466258\n",
       "1    1  -9.933443  -9.937457  -9.981711  -9.888887\n",
       "2    2 -10.058613 -10.030197 -10.088783  -9.967884\n",
       "3    3  -8.694873  -8.693549  -8.721677  -8.664824\n",
       "4    4  -8.146013  -8.150288  -8.168051  -8.133105"
      ]
     },
     "execution_count": 11,
     "metadata": {},
     "output_type": "execute_result"
    }
   ],
   "source": [
    "dftrump = pd.read_csv('lpout252.csv')\n",
    "dftrump.head()"
   ]
  },
  {
   "cell_type": "code",
   "execution_count": null,
   "metadata": {},
   "outputs": [],
   "source": [
    "def skew_norm_pdf(x,e=0,w=1,a=0):\n",
    "    # adapated from:\n",
    "    # http://stackoverflow.com/questions/5884768/skew-normal-distribution-in-scipy\n",
    "    t = (x-e) / w\n",
    "    return 2.0 * w * stats.norm.pdf(t) * stats.norm.cdf(a*t)"
   ]
  },
  {
   "cell_type": "markdown",
   "metadata": {},
   "source": [
    "## Plot Trump"
   ]
  },
  {
   "cell_type": "code",
   "execution_count": null,
   "metadata": {},
   "outputs": [],
   "source": [
    "dfobs = pd.read_csv('Output52.txt', sep = ' ', names = ['day','word','cnt','z'])\n",
    "dfobs['lpobs'] = np.log(dfobs['cnt']/dfobs['z'])\n",
    "\n",
    "dfobs= dfobs.sort_values('day', ascending = True)\n",
    "#Create Bounds\n",
    "n=63\n",
    "mu = df.iloc[n,:]['mu']\n",
    "sd = df.iloc[n,:]['sd']\n",
    "alpha = df.iloc[n,:]['alpha']\n",
    "drift = df.iloc[n,:]['drift']\n",
    "\n",
    "x0,x1,y0,y1 = dfobs['lpobs'].min()-0.5, dfobs['lpobs'].max()+0.5, dfobs['day'].max(), dfobs['day'].min()\n",
    "x = np.linspace(x0,x1,100) \n",
    "p = skew_norm_pdf(x,mu,sd,alpha)\n",
    "\n",
    "# plot it\n",
    "from matplotlib import gridspec\n",
    "gs = gridspec.GridSpec(3, 3)\n",
    "\n",
    "fig = plt.figure(figsize=(6, 8)) \n",
    "gs = gridspec.GridSpec(2, 1, height_ratios=[1, 5]) \n",
    "ax0 = plt.subplot(gs[0])\n",
    "ax0.plot(x, p)\n",
    "ax0.text(-12,0.15,'mu = %.2f'%mu)\n",
    "ax0.text(-12,0.1,'alpha = %.2f'%alpha)\n",
    "ax0.text(-12,0.05,'sd = %.2f'%sd)\n",
    "ax0.set_title(\"Lp Distribution for: 'Terrorist'\")\n",
    "ax0.grid(False)\n",
    "plt.setp(ax0.get_xticklabels(), visible=False)\n",
    "\n",
    "ax1 = plt.subplot(gs[1], sharex = ax0)\n",
    "line1, = ax1.plot(dfobs['lpobs'],dfobs['day'], alpha = 0.7, linewidth = 1.4, label = 'lp observed')\n",
    "ax1.axis([x0,x1,y0,y1])\n",
    "ax1.set_ylabel(\"Day\")\n",
    "ax1.set_xlabel('Log Probability')\n",
    "ax1.grid(linewidth = 0.5)\n",
    "#####horizontal line\n",
    "xs = np.linspace(dfobs['lpobs'].min()-1, dfobs['lpobs'].max()+1,200)\n",
    "horiz_line_data = np.array([231 for i in range(len(xs))])\n",
    "#ax1.plot(xs, horiz_line_data, 'k--', linewidth = 0.7) \n",
    "#ax1.text(-12,250,'Nice Terror Attack', size = 11, fontweight = 'bold')\n",
    "#horiz_line_data_2 = np.array([290 for i in range(len(xs))])\n",
    "#ax1.plot(xs, horiz_line_data_2, 'k--', linewidth = 0.7) \n",
    "#ax1.text(-12,309,'Pipe Bomb in New York', size = 11, fontweight = 'bold')\n",
    "\n",
    "# ax2 = ax1.twinx()\n",
    "# line2, = ax2.plot(dftrumplp['mu'], dftrumplp['day'], '-.', alpha = 0.7, c = 'r', linewidth = 0.4, label = 'lp predicted')\n",
    "# ax2.axis([x0,x1,y0,y1])\n",
    "# plt.setp(ax2.get_yticklabels(), visible=False)\n",
    "\n",
    "plt.style.use('fivethirtyeight')\n",
    "# plt.annotate('Election Day 2016', size  = 11, xy=(-9, 350), xytext=(-9, 430),\n",
    "#             arrowprops=dict(facecolor='black', shrink=0.05),\n",
    "#             )\n",
    "plt.legend(handles = [line1], loc = 1)\n",
    "plt.tight_layout()\n",
    "plt.show()"
   ]
  },
  {
   "cell_type": "code",
   "execution_count": null,
   "metadata": {},
   "outputs": [],
   "source": [
    "x = np.linspace(y0,y1,100) \n",
    "p = skew_norm_pdf(x,mu,sd,alpha)\n",
    "\n",
    "plt.plot(p,x)\n",
    "plt.gca().invert_xaxis()\n",
    "# ax0.text(-12,0.15,'mu = %.2f'%mu)\n",
    "# ax0.text(-12,0.1,'alpha = %.2f'%alpha)\n",
    "# ax0.text(-12,0.05,'sd = %.2f'%sd)\n",
    "plt.show()"
   ]
  },
  {
   "cell_type": "code",
   "execution_count": null,
   "metadata": {
    "scrolled": true
   },
   "outputs": [],
   "source": [
    "dfobs = pd.read_csv('Output52.txt', sep = ' ', names = ['day','word','cnt','z'])\n",
    "dfobs['lpobs'] = np.log(dfobs['cnt']/dfobs['z'])\n",
    "\n",
    "dfobs= dfobs.sort_values('day', ascending = True)\n",
    "#Create Bounds\n",
    "n=63\n",
    "mu = df.iloc[n,:]['mu']\n",
    "sd = df.iloc[n,:]['sd']\n",
    "alpha = df.iloc[n,:]['alpha']\n",
    "drift = df.iloc[n,:]['drift']\n",
    "\n",
    "y0,y1,x1,x0 = dfobs['lpobs'].min()-0.5, dfobs['lpobs'].max()+0.5, dfobs['day'].max(), dfobs['day'].min()\n",
    "x = np.linspace(y0,y1,100) \n",
    "p = skew_norm_pdf(x,mu,sd,alpha)\n",
    "d = skew_norm_pdf(x,mu,drift,0)\n",
    "# plot it\n",
    "from matplotlib import gridspec\n",
    "gs = gridspec.GridSpec(3, 3)\n",
    "\n",
    "bg_color = 'white'\n",
    "fig = plt.figure(figsize=(15, 4), facecolor=bg_color) \n",
    "gs = gridspec.GridSpec(1, 2, width_ratios=[0.9, 6]) \n",
    "ax0 = plt.subplot(gs[0])\n",
    "ax0.plot(p,x, linewidth = 1.2)\n",
    "ax0.plot(d,x, linewidth = 1.2)\n",
    "plt.gca().invert_xaxis()\n",
    "ax0.text(0.35,-5,'mu = %.2f'%mu, size = 11)\n",
    "ax0.text(0.35,-5.2,'alpha = %.2f'%alpha, size = 11)\n",
    "ax0.text(0.35,-5.4,'sd = %.2f'%sd, size = 11)\n",
    "ax0.set_title(\"Lp Distribution for: 'Trump'\")\n",
    "ax0.grid(False)\n",
    "ax0.set_facecolor('white')\n",
    "# plt.setp(ax0.get_yticklabels(), visible=False)\n",
    "\n",
    "ax1 = plt.subplot(gs[1], sharey = ax0)\n",
    "line1, = ax1.plot(dfobs['day'], dfobs['lpobs'], alpha = 0.7, linewidth = 1.2, label = 'lp observed')\n",
    "ax1.axis([x0,x1,y0,y1])\n",
    "ax1.set_ylabel(\"Log Probability\")\n",
    "ax1.set_xlabel('Day')\n",
    "ax1.grid(False)\n",
    "#####vertical line\n",
    "xs = np.linspace(dfobs['lpobs'].min()-1, dfobs['lpobs'].max()+1,200)\n",
    "vert_line_data = np.array([348 for i in range(len(xs))])\n",
    "ax1.plot(vert_line_data, xs, 'r--', linewidth = 1.1) \n",
    "ax1.text(350,-8.5,'Election Day 2016', size = 14, fontweight = 'bold')\n",
    "ax1.set_facecolor('white')\n",
    "#horiz_line_data_2 = np.array([290 for i in range(len(xs))])\n",
    "#ax1.plot(xs, horiz_line_data_2, 'k--', linewidth = 0.7) \n",
    "#ax1.text(-12,309,'Pipe Bomb in New York', size = 11, fontweight = 'bold')\n",
    "\n",
    "# ax2 = ax1.twinx()\n",
    "# line2, = ax2.plot(dftrumplp['mu'], dftrumplp['day'], '-.', alpha = 0.7, c = 'r', linewidth = 0.4, label = 'lp predicted')\n",
    "# ax2.axis([x0,x1,y0,y1])\n",
    "# plt.setp(ax2.get_yticklabels(), visible=False)\n",
    "\n",
    "plt.style.use('fivethirtyeight')\n",
    "plt.legend(handles = [line1], loc = 1, prop={'size': 14})\n",
    "# plt.tight_layout(pad=0.1, w_pad=1, h_pad=0.1)\n",
    "plt.show()"
   ]
  },
  {
   "cell_type": "markdown",
   "metadata": {},
   "source": [
    "## Plot Clinton"
   ]
  },
  {
   "cell_type": "code",
   "execution_count": null,
   "metadata": {},
   "outputs": [],
   "source": [
    "dfobs = pd.read_csv('Output207.txt', sep = ' ', names = ['day','word','cnt','z'])\n",
    "dfobs['lpobs'] = np.log(dfobs['cnt']/dfobs['z'])\n",
    "\n",
    "dfobs= dfobs.sort_values('day', ascending = True)\n",
    "#Create Bounds\n",
    "n=348\n",
    "mu = df.iloc[n,:]['mu']\n",
    "sd = df.iloc[n,:]['sd']\n",
    "alpha = df.iloc[n,:]['alpha']\n",
    "drift = df.iloc[n,:]['drift']\n",
    "\n",
    "y0,y1,x1,x0 = dfobs['lpobs'].min()-1, dfobs['lpobs'].max()+0.5, dfobs['day'].max(), dfobs['day'].min()\n",
    "x = np.linspace(y0,y1,100) \n",
    "p = skew_norm_pdf(x,mu,sd,alpha)\n",
    "d = skew_norm_pdf(x,mu,drift,0)\n",
    "# plot it\n",
    "from matplotlib import gridspec\n",
    "gs = gridspec.GridSpec(3, 3)\n",
    "\n",
    "\n",
    "bg_color = 'white'\n",
    "fig = plt.figure(figsize=(15, 4), facecolor=bg_color) \n",
    "gs = gridspec.GridSpec(1, 2, width_ratios=[0.9, 6]) \n",
    "ax0 = plt.subplot(gs[0])\n",
    "ax0.plot(p,x, linewidth = 1.2)\n",
    "ax0.plot(d,x, linewidth = 1.2)\n",
    "plt.gca().invert_xaxis()\n",
    "ax0.text(0.35,-6,'mu = %.2f'%mu, size = 11)\n",
    "ax0.text(0.35,-6.3,'alpha = %.2f'%alpha, size = 11)\n",
    "ax0.text(0.35,-6.6,'sd = %.2f'%sd, size = 11)\n",
    "ax0.set_title(\"Lp Distribution for: 'Clinton'\")\n",
    "ax0.grid(False)\n",
    "ax0.set_facecolor('white')\n",
    "# plt.setp(ax0.get_yticklabels(), visible=False)\n",
    "\n",
    "ax1 = plt.subplot(gs[1], sharey = ax0)\n",
    "line1, = ax1.plot(dfobs['day'], dfobs['lpobs'], alpha = 0.7, linewidth = 1.2, label = 'lp observed')\n",
    "ax1.axis([x0,x1,y0,y1])\n",
    "ax1.set_ylabel(\"Log Probability\")\n",
    "ax1.set_xlabel('Day')\n",
    "ax1.grid(False)\n",
    "#####vertical line\n",
    "xs = np.linspace(dfobs['lpobs'].min()-1, dfobs['lpobs'].max()+1,200)\n",
    "vert_line_data = np.array([348 for i in range(len(xs))])\n",
    "ax1.plot(vert_line_data, xs, 'r--', linewidth = 1.1) \n",
    "# ax1.text(350,-11,'Election Day 2016', size = 11, fontweight = 'bold')\n",
    "ax1.set_facecolor('white')\n",
    "#horiz_line_data_2 = np.array([290 for i in range(len(xs))])\n",
    "#ax1.plot(xs, horiz_line_data_2, 'k--', linewidth = 0.7) \n",
    "#ax1.text(-12,309,'Pipe Bomb in New York', size = 11, fontweight = 'bold')\n",
    "\n",
    "# ax2 = ax1.twinx()\n",
    "# line2, = ax2.plot(dftrumplp['mu'], dftrumplp['day'], '-.', alpha = 0.7, c = 'r', linewidth = 0.4, label = 'lp predicted')\n",
    "# ax2.axis([x0,x1,y0,y1])\n",
    "# plt.setp(ax2.get_yticklabels(), visible=False)\n",
    "\n",
    "plt.style.use('fivethirtyeight')\n",
    "# plt.annotate('Election Day 2016', size  = 11, xy=(-9, 350), xytext=(-9, 430),\n",
    "#             arrowprops=dict(facecolor='black', shrink=0.05),\n",
    "#             )\n",
    "plt.legend(handles = [line1], loc = 1)\n",
    "# plt.tight_layout(pad=0.1, w_pad=1, h_pad=0.1)\n",
    "plt.show()"
   ]
  },
  {
   "cell_type": "markdown",
   "metadata": {},
   "source": [
    "## Obama Plot"
   ]
  },
  {
   "cell_type": "code",
   "execution_count": null,
   "metadata": {},
   "outputs": [],
   "source": [
    "dfobs = pd.read_csv('Output267.txt', sep = ' ', names = ['day','word','cnt','z'])\n",
    "dfobs['lpobs'] = np.log(dfobs['cnt']/dfobs['z'])\n",
    "\n",
    "dfobs= dfobs.sort_values('day', ascending = True)\n",
    "#Create Bounds\n",
    "n=306\n",
    "mu = df.iloc[n,:]['mu']\n",
    "sd = df.iloc[n,:]['sd']\n",
    "alpha = df.iloc[n,:]['alpha']\n",
    "drift = df.iloc[n,:]['drift']\n",
    "\n",
    "y0,y1,x1,x0 = dfobs['lpobs'].min()-1, dfobs['lpobs'].max()+0.5, dfobs['day'].max(), dfobs['day'].min()\n",
    "x = np.linspace(y0,y1,100) \n",
    "p = skew_norm_pdf(x,mu,sd,alpha)\n",
    "d = skew_norm_pdf(x,mu,drift,0)\n",
    "# plot it\n",
    "from matplotlib import gridspec\n",
    "gs = gridspec.GridSpec(3, 3)\n",
    "\n",
    "bg_color = 'white'\n",
    "fig = plt.figure(figsize=(15, 4), facecolor=bg_color) \n",
    "gs = gridspec.GridSpec(1, 2, width_ratios=[0.9, 6]) \n",
    "ax0 = plt.subplot(gs[0])\n",
    "ax0.plot(p,x, linewidth = 1.2)\n",
    "ax0.plot(d,x, linewidth = 1.2)\n",
    "plt.gca().invert_xaxis()\n",
    "ax0.text(0.15,-6.5,'mu = %.2f'%mu, size = 11)\n",
    "ax0.text(0.15,-6.7,'alpha = %.2f'%alpha, size = 11)\n",
    "ax0.text(0.15,-6.9,'sd = %.2f'%sd, size = 11)\n",
    "ax0.set_title(\"Lp Distribution for: 'Obama'\")\n",
    "ax0.grid(False)\n",
    "ax0.set_facecolor('white')\n",
    "# plt.setp(ax0.get_yticklabels(), visible=False)\n",
    "\n",
    "ax1 = plt.subplot(gs[1], sharey = ax0)\n",
    "line1, = ax1.plot(dfobs['day'], dfobs['lpobs'], alpha = 0.7, linewidth = 1.2, label = 'lp observed')\n",
    "ax1.axis([x0,x1,y0,y1])\n",
    "ax1.set_ylabel(\"Log Probability\")\n",
    "ax1.set_xlabel('Day')\n",
    "ax1.grid(False)\n",
    "#####vertical line\n",
    "xs = np.linspace(dfobs['lpobs'].min()-1, dfobs['lpobs'].max()+1,200)\n",
    "vert_line_data = np.array([348 for i in range(len(xs))])\n",
    "ax1.plot(vert_line_data, xs, 'r--', linewidth = 1.1) \n",
    "ax1.set_facecolor('white')\n",
    "# ax1.text(350,-10,'Election Day 2016', size = 11, fontweight = 'bold')\n",
    "#horiz_line_data_2 = np.array([290 for i in range(len(xs))])\n",
    "#ax1.plot(xs, horiz_line_data_2, 'k--', linewidth = 0.7) \n",
    "#ax1.text(-12,309,'Pipe Bomb in New York', size = 11, fontweight = 'bold')\n",
    "\n",
    "# ax2 = ax1.twinx()\n",
    "# line2, = ax2.plot(dftrumplp['mu'], dftrumplp['day'], '-.', alpha = 0.7, c = 'r', linewidth = 0.4, label = 'lp predicted')\n",
    "# ax2.axis([x0,x1,y0,y1])\n",
    "# plt.setp(ax2.get_yticklabels(), visible=False)\n",
    "\n",
    "plt.style.use('fivethirtyeight')\n",
    "# plt.annotate('Election Day 2016', size  = 11, xy=(-9, 350), xytext=(-9, 430),\n",
    "#             arrowprops=dict(facecolor='black', shrink=0.05),\n",
    "#             )\n",
    "plt.legend(handles = [line1], loc = 1)\n",
    "# plt.tight_layout(pad=0.1, w_pad=1, h_pad=0.1)\n",
    "plt.show()"
   ]
  },
  {
   "cell_type": "markdown",
   "metadata": {},
   "source": [
    "## Russia Plot"
   ]
  },
  {
   "cell_type": "code",
   "execution_count": 6,
   "metadata": {},
   "outputs": [
    {
     "ename": "FileNotFoundError",
     "evalue": "[Errno 2] File b'Output470.txt' does not exist: b'Output470.txt'",
     "output_type": "error",
     "traceback": [
      "\u001b[0;31m---------------------------------------------------------------------------\u001b[0m",
      "\u001b[0;31mFileNotFoundError\u001b[0m                         Traceback (most recent call last)",
      "\u001b[0;32m<ipython-input-6-f79d4781f1c8>\u001b[0m in \u001b[0;36m<module>\u001b[0;34m\u001b[0m\n\u001b[0;32m----> 1\u001b[0;31m \u001b[0mdfobs\u001b[0m \u001b[0;34m=\u001b[0m \u001b[0mpd\u001b[0m\u001b[0;34m.\u001b[0m\u001b[0mread_csv\u001b[0m\u001b[0;34m(\u001b[0m\u001b[0;34m'Output470.txt'\u001b[0m\u001b[0;34m,\u001b[0m \u001b[0msep\u001b[0m \u001b[0;34m=\u001b[0m \u001b[0;34m' '\u001b[0m\u001b[0;34m,\u001b[0m \u001b[0mnames\u001b[0m \u001b[0;34m=\u001b[0m \u001b[0;34m[\u001b[0m\u001b[0;34m'day'\u001b[0m\u001b[0;34m,\u001b[0m\u001b[0;34m'word'\u001b[0m\u001b[0;34m,\u001b[0m\u001b[0;34m'cnt'\u001b[0m\u001b[0;34m,\u001b[0m\u001b[0;34m'z'\u001b[0m\u001b[0;34m]\u001b[0m\u001b[0;34m)\u001b[0m\u001b[0;34m\u001b[0m\u001b[0;34m\u001b[0m\u001b[0m\n\u001b[0m\u001b[1;32m      2\u001b[0m \u001b[0mdfobs\u001b[0m\u001b[0;34m[\u001b[0m\u001b[0;34m'lpobs'\u001b[0m\u001b[0;34m]\u001b[0m \u001b[0;34m=\u001b[0m \u001b[0mnp\u001b[0m\u001b[0;34m.\u001b[0m\u001b[0mlog\u001b[0m\u001b[0;34m(\u001b[0m\u001b[0mdfobs\u001b[0m\u001b[0;34m[\u001b[0m\u001b[0;34m'cnt'\u001b[0m\u001b[0;34m]\u001b[0m\u001b[0;34m/\u001b[0m\u001b[0mdfobs\u001b[0m\u001b[0;34m[\u001b[0m\u001b[0;34m'z'\u001b[0m\u001b[0;34m]\u001b[0m\u001b[0;34m)\u001b[0m\u001b[0;34m\u001b[0m\u001b[0;34m\u001b[0m\u001b[0m\n\u001b[1;32m      3\u001b[0m \u001b[0;34m\u001b[0m\u001b[0m\n\u001b[1;32m      4\u001b[0m \u001b[0mdfobs\u001b[0m\u001b[0;34m=\u001b[0m \u001b[0mdfobs\u001b[0m\u001b[0;34m.\u001b[0m\u001b[0msort_values\u001b[0m\u001b[0;34m(\u001b[0m\u001b[0;34m'day'\u001b[0m\u001b[0;34m,\u001b[0m \u001b[0mascending\u001b[0m \u001b[0;34m=\u001b[0m \u001b[0;32mTrue\u001b[0m\u001b[0;34m)\u001b[0m\u001b[0;34m\u001b[0m\u001b[0;34m\u001b[0m\u001b[0m\n\u001b[1;32m      5\u001b[0m \u001b[0;34m\u001b[0m\u001b[0m\n",
      "\u001b[0;32m/opt/anaconda3/lib/python3.7/site-packages/pandas/io/parsers.py\u001b[0m in \u001b[0;36mparser_f\u001b[0;34m(filepath_or_buffer, sep, delimiter, header, names, index_col, usecols, squeeze, prefix, mangle_dupe_cols, dtype, engine, converters, true_values, false_values, skipinitialspace, skiprows, skipfooter, nrows, na_values, keep_default_na, na_filter, verbose, skip_blank_lines, parse_dates, infer_datetime_format, keep_date_col, date_parser, dayfirst, cache_dates, iterator, chunksize, compression, thousands, decimal, lineterminator, quotechar, quoting, doublequote, escapechar, comment, encoding, dialect, error_bad_lines, warn_bad_lines, delim_whitespace, low_memory, memory_map, float_precision)\u001b[0m\n\u001b[1;32m    683\u001b[0m         )\n\u001b[1;32m    684\u001b[0m \u001b[0;34m\u001b[0m\u001b[0m\n\u001b[0;32m--> 685\u001b[0;31m         \u001b[0;32mreturn\u001b[0m \u001b[0m_read\u001b[0m\u001b[0;34m(\u001b[0m\u001b[0mfilepath_or_buffer\u001b[0m\u001b[0;34m,\u001b[0m \u001b[0mkwds\u001b[0m\u001b[0;34m)\u001b[0m\u001b[0;34m\u001b[0m\u001b[0;34m\u001b[0m\u001b[0m\n\u001b[0m\u001b[1;32m    686\u001b[0m \u001b[0;34m\u001b[0m\u001b[0m\n\u001b[1;32m    687\u001b[0m     \u001b[0mparser_f\u001b[0m\u001b[0;34m.\u001b[0m\u001b[0m__name__\u001b[0m \u001b[0;34m=\u001b[0m \u001b[0mname\u001b[0m\u001b[0;34m\u001b[0m\u001b[0;34m\u001b[0m\u001b[0m\n",
      "\u001b[0;32m/opt/anaconda3/lib/python3.7/site-packages/pandas/io/parsers.py\u001b[0m in \u001b[0;36m_read\u001b[0;34m(filepath_or_buffer, kwds)\u001b[0m\n\u001b[1;32m    455\u001b[0m \u001b[0;34m\u001b[0m\u001b[0m\n\u001b[1;32m    456\u001b[0m     \u001b[0;31m# Create the parser.\u001b[0m\u001b[0;34m\u001b[0m\u001b[0;34m\u001b[0m\u001b[0;34m\u001b[0m\u001b[0m\n\u001b[0;32m--> 457\u001b[0;31m     \u001b[0mparser\u001b[0m \u001b[0;34m=\u001b[0m \u001b[0mTextFileReader\u001b[0m\u001b[0;34m(\u001b[0m\u001b[0mfp_or_buf\u001b[0m\u001b[0;34m,\u001b[0m \u001b[0;34m**\u001b[0m\u001b[0mkwds\u001b[0m\u001b[0;34m)\u001b[0m\u001b[0;34m\u001b[0m\u001b[0;34m\u001b[0m\u001b[0m\n\u001b[0m\u001b[1;32m    458\u001b[0m \u001b[0;34m\u001b[0m\u001b[0m\n\u001b[1;32m    459\u001b[0m     \u001b[0;32mif\u001b[0m \u001b[0mchunksize\u001b[0m \u001b[0;32mor\u001b[0m \u001b[0miterator\u001b[0m\u001b[0;34m:\u001b[0m\u001b[0;34m\u001b[0m\u001b[0;34m\u001b[0m\u001b[0m\n",
      "\u001b[0;32m/opt/anaconda3/lib/python3.7/site-packages/pandas/io/parsers.py\u001b[0m in \u001b[0;36m__init__\u001b[0;34m(self, f, engine, **kwds)\u001b[0m\n\u001b[1;32m    893\u001b[0m             \u001b[0mself\u001b[0m\u001b[0;34m.\u001b[0m\u001b[0moptions\u001b[0m\u001b[0;34m[\u001b[0m\u001b[0;34m\"has_index_names\"\u001b[0m\u001b[0;34m]\u001b[0m \u001b[0;34m=\u001b[0m \u001b[0mkwds\u001b[0m\u001b[0;34m[\u001b[0m\u001b[0;34m\"has_index_names\"\u001b[0m\u001b[0;34m]\u001b[0m\u001b[0;34m\u001b[0m\u001b[0;34m\u001b[0m\u001b[0m\n\u001b[1;32m    894\u001b[0m \u001b[0;34m\u001b[0m\u001b[0m\n\u001b[0;32m--> 895\u001b[0;31m         \u001b[0mself\u001b[0m\u001b[0;34m.\u001b[0m\u001b[0m_make_engine\u001b[0m\u001b[0;34m(\u001b[0m\u001b[0mself\u001b[0m\u001b[0;34m.\u001b[0m\u001b[0mengine\u001b[0m\u001b[0;34m)\u001b[0m\u001b[0;34m\u001b[0m\u001b[0;34m\u001b[0m\u001b[0m\n\u001b[0m\u001b[1;32m    896\u001b[0m \u001b[0;34m\u001b[0m\u001b[0m\n\u001b[1;32m    897\u001b[0m     \u001b[0;32mdef\u001b[0m \u001b[0mclose\u001b[0m\u001b[0;34m(\u001b[0m\u001b[0mself\u001b[0m\u001b[0;34m)\u001b[0m\u001b[0;34m:\u001b[0m\u001b[0;34m\u001b[0m\u001b[0;34m\u001b[0m\u001b[0m\n",
      "\u001b[0;32m/opt/anaconda3/lib/python3.7/site-packages/pandas/io/parsers.py\u001b[0m in \u001b[0;36m_make_engine\u001b[0;34m(self, engine)\u001b[0m\n\u001b[1;32m   1133\u001b[0m     \u001b[0;32mdef\u001b[0m \u001b[0m_make_engine\u001b[0m\u001b[0;34m(\u001b[0m\u001b[0mself\u001b[0m\u001b[0;34m,\u001b[0m \u001b[0mengine\u001b[0m\u001b[0;34m=\u001b[0m\u001b[0;34m\"c\"\u001b[0m\u001b[0;34m)\u001b[0m\u001b[0;34m:\u001b[0m\u001b[0;34m\u001b[0m\u001b[0;34m\u001b[0m\u001b[0m\n\u001b[1;32m   1134\u001b[0m         \u001b[0;32mif\u001b[0m \u001b[0mengine\u001b[0m \u001b[0;34m==\u001b[0m \u001b[0;34m\"c\"\u001b[0m\u001b[0;34m:\u001b[0m\u001b[0;34m\u001b[0m\u001b[0;34m\u001b[0m\u001b[0m\n\u001b[0;32m-> 1135\u001b[0;31m             \u001b[0mself\u001b[0m\u001b[0;34m.\u001b[0m\u001b[0m_engine\u001b[0m \u001b[0;34m=\u001b[0m \u001b[0mCParserWrapper\u001b[0m\u001b[0;34m(\u001b[0m\u001b[0mself\u001b[0m\u001b[0;34m.\u001b[0m\u001b[0mf\u001b[0m\u001b[0;34m,\u001b[0m \u001b[0;34m**\u001b[0m\u001b[0mself\u001b[0m\u001b[0;34m.\u001b[0m\u001b[0moptions\u001b[0m\u001b[0;34m)\u001b[0m\u001b[0;34m\u001b[0m\u001b[0;34m\u001b[0m\u001b[0m\n\u001b[0m\u001b[1;32m   1136\u001b[0m         \u001b[0;32melse\u001b[0m\u001b[0;34m:\u001b[0m\u001b[0;34m\u001b[0m\u001b[0;34m\u001b[0m\u001b[0m\n\u001b[1;32m   1137\u001b[0m             \u001b[0;32mif\u001b[0m \u001b[0mengine\u001b[0m \u001b[0;34m==\u001b[0m \u001b[0;34m\"python\"\u001b[0m\u001b[0;34m:\u001b[0m\u001b[0;34m\u001b[0m\u001b[0;34m\u001b[0m\u001b[0m\n",
      "\u001b[0;32m/opt/anaconda3/lib/python3.7/site-packages/pandas/io/parsers.py\u001b[0m in \u001b[0;36m__init__\u001b[0;34m(self, src, **kwds)\u001b[0m\n\u001b[1;32m   1915\u001b[0m         \u001b[0mkwds\u001b[0m\u001b[0;34m[\u001b[0m\u001b[0;34m\"usecols\"\u001b[0m\u001b[0;34m]\u001b[0m \u001b[0;34m=\u001b[0m \u001b[0mself\u001b[0m\u001b[0;34m.\u001b[0m\u001b[0musecols\u001b[0m\u001b[0;34m\u001b[0m\u001b[0;34m\u001b[0m\u001b[0m\n\u001b[1;32m   1916\u001b[0m \u001b[0;34m\u001b[0m\u001b[0m\n\u001b[0;32m-> 1917\u001b[0;31m         \u001b[0mself\u001b[0m\u001b[0;34m.\u001b[0m\u001b[0m_reader\u001b[0m \u001b[0;34m=\u001b[0m \u001b[0mparsers\u001b[0m\u001b[0;34m.\u001b[0m\u001b[0mTextReader\u001b[0m\u001b[0;34m(\u001b[0m\u001b[0msrc\u001b[0m\u001b[0;34m,\u001b[0m \u001b[0;34m**\u001b[0m\u001b[0mkwds\u001b[0m\u001b[0;34m)\u001b[0m\u001b[0;34m\u001b[0m\u001b[0;34m\u001b[0m\u001b[0m\n\u001b[0m\u001b[1;32m   1918\u001b[0m         \u001b[0mself\u001b[0m\u001b[0;34m.\u001b[0m\u001b[0munnamed_cols\u001b[0m \u001b[0;34m=\u001b[0m \u001b[0mself\u001b[0m\u001b[0;34m.\u001b[0m\u001b[0m_reader\u001b[0m\u001b[0;34m.\u001b[0m\u001b[0munnamed_cols\u001b[0m\u001b[0;34m\u001b[0m\u001b[0;34m\u001b[0m\u001b[0m\n\u001b[1;32m   1919\u001b[0m \u001b[0;34m\u001b[0m\u001b[0m\n",
      "\u001b[0;32mpandas/_libs/parsers.pyx\u001b[0m in \u001b[0;36mpandas._libs.parsers.TextReader.__cinit__\u001b[0;34m()\u001b[0m\n",
      "\u001b[0;32mpandas/_libs/parsers.pyx\u001b[0m in \u001b[0;36mpandas._libs.parsers.TextReader._setup_parser_source\u001b[0;34m()\u001b[0m\n",
      "\u001b[0;31mFileNotFoundError\u001b[0m: [Errno 2] File b'Output470.txt' does not exist: b'Output470.txt'"
     ]
    }
   ],
   "source": [
    "dfobs = pd.read_csv('Output470.txt', sep = ' ', names = ['day','word','cnt','z'])\n",
    "dfobs['lpobs'] = np.log(dfobs['cnt']/dfobs['z'])\n",
    "\n",
    "dfobs= dfobs.sort_values('day', ascending = True)\n",
    "\n",
    "#Create Bounds\n",
    "n=510\n",
    "mu = df.iloc[n,:]['mu']\n",
    "sd = df.iloc[n,:]['sd']\n",
    "alpha = df.iloc[n,:]['alpha']\n",
    "drift = df.iloc[n,:]['drift']\n",
    "\n",
    "y0,y1,x1,x0 = dfobs['lpobs'].min()-0.5, dfobs['lpobs'].max()+0.5, dfobs['day'].max(), dfobs['day'].min()\n",
    "x = np.linspace(y0,y1,100) \n",
    "p = skew_norm_pdf(x,mu,sd,alpha)\n",
    "d = skew_norm_pdf(x,mu,drift,0)\n",
    "# plot it\n",
    "from matplotlib import gridspec\n",
    "gs = gridspec.GridSpec(3, 3)\n",
    "\n",
    "fig = plt.figure(figsize=(15, 4)) \n",
    "gs = gridspec.GridSpec(1, 2, width_ratios=[0.9, 6]) \n",
    "ax0 = plt.subplot(gs[0])\n",
    "ax0.plot(p,x, linewidth = 1.2)\n",
    "ax0.plot(d,x, linewidth = 1.2)\n",
    "plt.gca().invert_xaxis()\n",
    "ax0.text(0.18,-7,'mu = %.2f'%mu, size = 11)\n",
    "ax0.text(0.18,-7.2,'alpha = %.2f'%alpha, size = 11)\n",
    "ax0.text(0.18,-7.4,'sd = %.2f'%sd, size = 11)\n",
    "ax0.set_title(\"Lp Distribution for: 'Russia'\")\n",
    "ax0.grid(False)\n",
    "# plt.setp(ax0.get_yticklabels(), visible=False)\n",
    "\n",
    "ax1 = plt.subplot(gs[1], sharey = ax0)\n",
    "line1, = ax1.plot(dfobs['day'], dfobs['lpobs'], alpha = 0.7, linewidth = 1.2, label = 'lp observed')\n",
    "ax1.axis([x0,x1,y0,y1])\n",
    "ax1.set_ylabel(\"Log Probability\")\n",
    "ax1.set_xlabel('Day')\n",
    "ax1.grid(linewidth = 0.5)\n",
    "#####vertical line\n",
    "xs = np.linspace(dfobs['lpobs'].min()-1, dfobs['lpobs'].max()+1,200)\n",
    "vert_line_data = np.array([407 for i in range(len(xs))])\n",
    "ax1.plot(vert_line_data, xs, 'r--', linewidth = 0.7) \n",
    "ax1.text(410,-10,'ODNI Hacking Report Released ', size = 11, fontweight = 'bold')\n",
    "\n",
    "\n",
    "plt.style.use('fivethirtyeight')\n",
    "plt.legend(handles = [line1], loc = 1)\n",
    "# plt.tight_layout(pad=0.1, w_pad=1, h_pad=0.1)\n",
    "plt.show()"
   ]
  },
  {
   "cell_type": "code",
   "execution_count": 2,
   "metadata": {},
   "outputs": [
    {
     "data": {
      "text/html": [
       "<div>\n",
       "<style scoped>\n",
       "    .dataframe tbody tr th:only-of-type {\n",
       "        vertical-align: middle;\n",
       "    }\n",
       "\n",
       "    .dataframe tbody tr th {\n",
       "        vertical-align: top;\n",
       "    }\n",
       "\n",
       "    .dataframe thead th {\n",
       "        text-align: right;\n",
       "    }\n",
       "</style>\n",
       "<table border=\"1\" class=\"dataframe\">\n",
       "  <thead>\n",
       "    <tr style=\"text-align: right;\">\n",
       "      <th></th>\n",
       "      <th>day</th>\n",
       "      <th>lpobs</th>\n",
       "      <th>mu</th>\n",
       "      <th>low</th>\n",
       "      <th>high</th>\n",
       "    </tr>\n",
       "  </thead>\n",
       "  <tbody>\n",
       "    <tr>\n",
       "      <td>0</td>\n",
       "      <td>0</td>\n",
       "      <td>-12.300727</td>\n",
       "      <td>-11.650798</td>\n",
       "      <td>-12.724914</td>\n",
       "      <td>-10.849594</td>\n",
       "    </tr>\n",
       "    <tr>\n",
       "      <td>1</td>\n",
       "      <td>1</td>\n",
       "      <td>-11.759449</td>\n",
       "      <td>-11.428539</td>\n",
       "      <td>-11.976183</td>\n",
       "      <td>-11.081318</td>\n",
       "    </tr>\n",
       "    <tr>\n",
       "      <td>2</td>\n",
       "      <td>2</td>\n",
       "      <td>-12.268341</td>\n",
       "      <td>-11.768647</td>\n",
       "      <td>-12.421712</td>\n",
       "      <td>-11.265469</td>\n",
       "    </tr>\n",
       "    <tr>\n",
       "      <td>3</td>\n",
       "      <td>3</td>\n",
       "      <td>-12.711091</td>\n",
       "      <td>-12.036927</td>\n",
       "      <td>-12.851723</td>\n",
       "      <td>-11.447490</td>\n",
       "    </tr>\n",
       "    <tr>\n",
       "      <td>4</td>\n",
       "      <td>4</td>\n",
       "      <td>-12.939349</td>\n",
       "      <td>-12.226702</td>\n",
       "      <td>-12.985067</td>\n",
       "      <td>-11.723431</td>\n",
       "    </tr>\n",
       "  </tbody>\n",
       "</table>\n",
       "</div>"
      ],
      "text/plain": [
       "   day      lpobs         mu        low       high\n",
       "0    0 -12.300727 -11.650798 -12.724914 -10.849594\n",
       "1    1 -11.759449 -11.428539 -11.976183 -11.081318\n",
       "2    2 -12.268341 -11.768647 -12.421712 -11.265469\n",
       "3    3 -12.711091 -12.036927 -12.851723 -11.447490\n",
       "4    4 -12.939349 -12.226702 -12.985067 -11.723431"
      ]
     },
     "execution_count": 2,
     "metadata": {},
     "output_type": "execute_result"
    }
   ],
   "source": [
    "dfobs = pd.read_csv('lpout8678.csv')\n",
    "dfobs.head()"
   ]
  },
  {
   "cell_type": "code",
   "execution_count": null,
   "metadata": {},
   "outputs": [],
   "source": [
    "!jt -r"
   ]
  }
 ],
 "metadata": {
  "anaconda-cloud": {},
  "kernelspec": {
   "display_name": "Python 3",
   "language": "python",
   "name": "python3"
  },
  "language_info": {
   "codemirror_mode": {
    "name": "ipython",
    "version": 3
   },
   "file_extension": ".py",
   "mimetype": "text/x-python",
   "name": "python",
   "nbconvert_exporter": "python",
   "pygments_lexer": "ipython3",
   "version": "3.7.4"
  }
 },
 "nbformat": 4,
 "nbformat_minor": 1
}
